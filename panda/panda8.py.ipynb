{
 "cells": [
  {
   "cell_type": "code",
   "execution_count": 1,
   "id": "7fc60ad9",
   "metadata": {},
   "outputs": [
    {
     "name": "stdout",
     "output_type": "stream",
     "text": [
      "  Name  Age\n",
      "0    a   24\n",
      "1    b   25\n"
     ]
    }
   ],
   "source": [
    "import pandas as pd\n",
    "\n",
    "details = {\n",
    "    'Name' : ['a','b','c','d'],\n",
    "    'Age' : [24,25,26,27],\n",
    "}\n",
    "  \n",
    "\n",
    "df = pd.DataFrame(details)\n",
    "  \n",
    "print(df[:2])"
   ]
  },
  {
   "cell_type": "code",
   "execution_count": null,
   "id": "a8c71097",
   "metadata": {},
   "outputs": [],
   "source": []
  }
 ],
 "metadata": {
  "kernelspec": {
   "display_name": "Python 3 (ipykernel)",
   "language": "python",
   "name": "python3"
  },
  "language_info": {
   "codemirror_mode": {
    "name": "ipython",
    "version": 3
   },
   "file_extension": ".py",
   "mimetype": "text/x-python",
   "name": "python",
   "nbconvert_exporter": "python",
   "pygments_lexer": "ipython3",
   "version": "3.9.7"
  }
 },
 "nbformat": 4,
 "nbformat_minor": 5
}
