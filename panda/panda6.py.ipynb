import pandas as pd

df = pd.DataFrame({'Name': ['e','a','a','b','c','d'],
                   'Age': [1,2,1,3,3,4],
                   'Rank': [0,1,2,3,4,5]})

print(df.to_string())

print('SORTED DATAFRAME')
df = df.sort_values(by=['Name','Age'], ascending=[True,True])

print(df.to_string())


output
=====================
 Name  Age  Rank
0    e    1     0
1    a    2     1
2    a    1     2
3    b    3     3
4    c    3     4
5    d    4     5
SORTED DATAFRAME
  Name  Age  Rank
2    a    1     2
1    a    2     1
3    b    3     3
4    c    3     4
5    d    4     5
0    e    1     0
